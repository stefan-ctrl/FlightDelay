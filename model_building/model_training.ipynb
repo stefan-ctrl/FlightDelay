{
 "cells": [
  {
   "cell_type": "code",
   "execution_count": 8,
   "metadata": {},
   "outputs": [
    {
     "name": "stdout",
     "output_type": "stream",
     "text": [
      "<class 'pandas.core.frame.DataFrame'>\n",
      "RangeIndex: 81708 entries, 0 to 81707\n",
      "Data columns (total 9 columns):\n",
      " #   Column                 Non-Null Count  Dtype  \n",
      "---  ------                 --------------  -----  \n",
      " 0   FlightDepDateTime      81708 non-null  object \n",
      " 1   Weather_Intensity      9399 non-null   object \n",
      " 2   Weather_Obscuration    5265 non-null   object \n",
      " 3   Weather_Precipitation  4087 non-null   object \n",
      " 4   Wind_Direction         80665 non-null  float64\n",
      " 5   Wind_Gusts             15655 non-null  float64\n",
      " 6   Wind_Speed             81701 non-null  float64\n",
      " 7   Visibility             81700 non-null  float64\n",
      " 8   isDelayed              81708 non-null  bool   \n",
      "dtypes: bool(1), float64(4), object(4)\n",
      "memory usage: 5.1+ MB\n"
     ]
    },
    {
     "data": {
      "text/plain": [
       "(     FlightDepDateTime Weather_Intensity Weather_Obscuration  \\\n",
       " 0  2020-01-01 04:57:00               NaN                 NaN   \n",
       " 1  2020-01-01 04:57:00               NaN                 NaN   \n",
       " 2  2020-01-01 04:57:00               NaN                 NaN   \n",
       " 3  2020-01-01 04:57:00               NaN                 NaN   \n",
       " 4  2020-01-01 04:59:00               NaN                 NaN   \n",
       " \n",
       "   Weather_Precipitation  Wind_Direction  Wind_Gusts  Wind_Speed  Visibility  \\\n",
       " 0                   NaN           240.0         NaN        12.0        10.0   \n",
       " 1                   NaN           240.0         NaN        12.0        10.0   \n",
       " 2                   NaN           240.0         NaN        12.0        10.0   \n",
       " 3                   NaN           240.0         NaN        12.0        10.0   \n",
       " 4                   NaN           240.0         NaN        12.0        10.0   \n",
       " \n",
       "    isDelayed  \n",
       " 0      False  \n",
       " 1      False  \n",
       " 2      False  \n",
       " 3      False  \n",
       " 4      False  ,\n",
       " None)"
      ]
     },
     "execution_count": 8,
     "metadata": {},
     "output_type": "execute_result"
    }
   ],
   "source": [
    "import pandas as pd\n",
    "\n",
    "# Load the dataset to examine its structure\n",
    "data_path = '../preprocessing/data_preprocessing.csv'\n",
    "df = pd.read_csv(data_path)\n",
    "\n",
    "# Display the first few rows of the dataset and its basic information\n",
    "df.head(), df.info()"
   ]
  },
  {
   "cell_type": "code",
   "execution_count": 9,
   "metadata": {},
   "outputs": [
    {
     "name": "stdout",
     "output_type": "stream",
     "text": [
      "              precision    recall  f1-score   support\n",
      "\n",
      "           0       0.82      1.00      0.90     13353\n",
      "           1       0.73      0.05      0.09      2989\n",
      "\n",
      "    accuracy                           0.82     16342\n",
      "   macro avg       0.78      0.52      0.50     16342\n",
      "weighted avg       0.81      0.82      0.75     16342\n",
      "\n"
     ]
    }
   ],
   "source": [
    "from sklearn.ensemble import RandomForestClassifier\n",
    "from sklearn.model_selection import train_test_split\n",
    "from sklearn.metrics import classification_report\n",
    "from sklearn.impute import SimpleImputer\n",
    "from sklearn.preprocessing import LabelEncoder\n",
    "\n",
    "# Splitting \"FlightDepDateTime\" into individual components: Year, Month, Day, Hour, Minute\n",
    "df['FlightDepDateTime'] = pd.to_datetime(df['FlightDepDateTime'], errors='coerce')\n",
    "\n",
    "# Extracting individual components\n",
    "df['Year'] = df['FlightDepDateTime'].dt.year\n",
    "df['Month'] = df['FlightDepDateTime'].dt.month\n",
    "df['Day'] = df['FlightDepDateTime'].dt.day\n",
    "df['Hour'] = df['FlightDepDateTime'].dt.hour\n",
    "df['Minute'] = df['FlightDepDateTime'].dt.minute\n",
    "\n",
    "# Dropping the original \"FlightDepDateTime\" column as it's now split into multiple features\n",
    "df_final = df.drop(columns=['FlightDepDateTime'])\n",
    "\n",
    "# Handle missing values and preprocess data\n",
    "# Separate features and target\n",
    "X = df_final.drop(columns=['isDelayed'])  # Exclude datetime column\n",
    "y = df_final['isDelayed'].astype(int)  # Encode target variable as 0 and 1\n",
    "\n",
    "# Encode categorical features\n",
    "cat_cols = X.select_dtypes(include=['object']).columns\n",
    "X[cat_cols] = X[cat_cols].fillna('None')  # Fill missing categorical data with 'None'\n",
    "encoder = LabelEncoder()\n",
    "for col in cat_cols:\n",
    "    X[col] = encoder.fit_transform(X[col])\n",
    "\n",
    "# Display the updated DataFrame structure\n",
    "df_final.head()\n",
    "\n",
    "# Split the data into training and testing sets\n",
    "X_train, X_test, y_train, y_test = train_test_split(X, y, test_size=0.2, random_state=42)\n",
    "\n",
    "# Initialize and train the Random Forest model\n",
    "rf_model = RandomForestClassifier(n_estimators=140, max_depth=7, random_state=42)\n",
    "rf_model.fit(X_train, y_train)\n",
    "\n",
    "# Predict and evaluate the model\n",
    "y_pred = rf_model.predict(X_test)\n",
    "print(classification_report(y_test, y_pred))"
   ]
  },
  {
   "cell_type": "markdown",
   "metadata": {},
   "source": [
    "# Incorporating Uncertainty"
   ]
  },
  {
   "cell_type": "code",
   "execution_count": 10,
   "metadata": {},
   "outputs": [
    {
     "name": "stdout",
     "output_type": "stream",
     "text": [
      "Deterministic Model Performance:\n",
      "              precision    recall  f1-score   support\n",
      "\n",
      "           0       0.82      1.00      0.90     20058\n",
      "           1       0.73      0.05      0.09      4455\n",
      "\n",
      "    accuracy                           0.82     24513\n",
      "   macro avg       0.78      0.52      0.50     24513\n",
      "weighted avg       0.81      0.82      0.75     24513\n",
      "\n",
      "\n",
      "Probabilistic Model Performance:\n",
      "              precision    recall  f1-score   support\n",
      "\n",
      "           0       0.83      1.00      0.90     20058\n",
      "           1       0.72      0.05      0.09      4455\n",
      "\n",
      "    accuracy                           0.82     24513\n",
      "   macro avg       0.77      0.52      0.50     24513\n",
      "weighted avg       0.81      0.82      0.76     24513\n",
      "\n",
      "\n",
      "Deterministic Model Accuracy: 0.82\n",
      "Probabilistic Model Accuracy: 0.82\n"
     ]
    }
   ],
   "source": [
    "import numpy as np\n",
    "from sklearn.ensemble import RandomForestClassifier\n",
    "from sklearn.metrics import classification_report, accuracy_score\n",
    "from sklearn.model_selection import train_test_split\n",
    "\n",
    "# Assume 'X' and 'y' are defined as in the previous setup\n",
    "\n",
    "# Set up parameters for the Monte Carlo simulation\n",
    "n_simulations = 100  # Number of Monte Carlo simulations\n",
    "weather_features = ['Wind_Direction', 'Wind_Gusts', 'Wind_Speed', 'Visibility']  # Features to simulate noise\n",
    "\n",
    "# Split data into training and testing sets\n",
    "X_train, X_test, y_train, y_test = train_test_split(X, y, test_size=0.3, random_state=42)\n",
    "\n",
    "# Train the original deterministic model for comparison\n",
    "det_model = RandomForestClassifier(n_estimators=60, max_depth=7, random_state=42)\n",
    "det_model.fit(X_train, y_train)\n",
    "det_predictions = det_model.predict(X_test)\n",
    "print(\"Deterministic Model Performance:\")\n",
    "print(classification_report(y_test, det_predictions))\n",
    "\n",
    "# Monte Carlo Simulation for probabilistic modeling\n",
    "prob_predictions = np.zeros((n_simulations, X_test.shape[0]))\n",
    "\n",
    "for i in range(n_simulations):\n",
    "    # Add Gaussian noise to weather features in the training set\n",
    "    X_train_sim = X_train.copy()\n",
    "    for feature in weather_features:\n",
    "        noise = np.random.normal(loc=0, scale=X_train[feature].std() * 0.1, size=X_train.shape[0])\n",
    "        X_train_sim[feature] += noise\n",
    "    \n",
    "    # Train model on the noisy data\n",
    "    model = RandomForestClassifier(n_estimators=60, max_depth=7, random_state=42)\n",
    "    model.fit(X_train_sim, y_train)\n",
    "    \n",
    "    # Store predictions for this simulation\n",
    "    prob_predictions[i] = model.predict(X_test)\n",
    "\n",
    "# Compute probabilistic predictions as the mean prediction across simulations\n",
    "prob_pred_mean = prob_predictions.mean(axis=0) > 0.5  # Threshold at 0.5 for binary classification\n",
    "\n",
    "# Convert probabilistic predictions to binary values and evaluate\n",
    "print(\"\\nProbabilistic Model Performance:\")\n",
    "print(classification_report(y_test, prob_pred_mean.astype(int)))\n",
    "\n",
    "# Compare deterministic and probabilistic predictions in terms of accuracy\n",
    "det_accuracy = accuracy_score(y_test, det_predictions)\n",
    "prob_accuracy = accuracy_score(y_test, prob_pred_mean.astype(int))\n",
    "\n",
    "print(f\"\\nDeterministic Model Accuracy: {det_accuracy:.2f}\")\n",
    "print(f\"Probabilistic Model Accuracy: {prob_accuracy:.2f}\")"
   ]
  }
 ],
 "metadata": {
  "kernelspec": {
   "display_name": ".venv",
   "language": "python",
   "name": "python3"
  },
  "language_info": {
   "codemirror_mode": {
    "name": "ipython",
    "version": 3
   },
   "file_extension": ".py",
   "mimetype": "text/x-python",
   "name": "python",
   "nbconvert_exporter": "python",
   "pygments_lexer": "ipython3",
   "version": "3.11.0"
  }
 },
 "nbformat": 4,
 "nbformat_minor": 2
}
